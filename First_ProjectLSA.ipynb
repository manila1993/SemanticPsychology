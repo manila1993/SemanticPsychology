{
 "cells": [
  {
   "cell_type": "markdown",
   "id": "055e5636",
   "metadata": {},
   "source": [
    "Myers Briggs Type Indicator (MBTI) is a personality type that divides people into 16 different personality types:\n",
    "\n",
    "Introversion (I) – Extroversion (E)\n",
    "Intuition (N) – Sensing (S)\n",
    "Thinking (T) – Feeling (F)\n",
    "Judging (J) – Perceiving (P)\n",
    "\n",
    "2^4 personaity types. For the data and further infromation visit the below link-\n",
    "https://www.kaggle.com/datasnaek/mbti-type\n",
    "https://medium.com/towards-data-science/latent-semantic-analysis-deduce-the-hidden-topic-from-the-document-f360e8c0614b"
   ]
  },
  {
   "cell_type": "code",
   "execution_count": 210,
   "id": "a45111b6",
   "metadata": {},
   "outputs": [],
   "source": [
    "import pandas as pd"
   ]
  },
  {
   "cell_type": "markdown",
   "id": "019e2f49",
   "metadata": {},
   "source": [
    "importing data"
   ]
  },
  {
   "cell_type": "code",
   "execution_count": 211,
   "id": "a17d9461",
   "metadata": {},
   "outputs": [],
   "source": [
    "data=pd.read_csv('C:/Users/91892/Desktop/prac_data.csv') "
   ]
  },
  {
   "cell_type": "markdown",
   "id": "66fa3da9",
   "metadata": {},
   "source": [
    "here i have selected only one column 'posts'"
   ]
  },
  {
   "cell_type": "markdown",
   "id": "e02daa94",
   "metadata": {},
   "source": [
    "made it a dataframe"
   ]
  },
  {
   "cell_type": "code",
   "execution_count": 214,
   "id": "7f5a7554",
   "metadata": {},
   "outputs": [],
   "source": [
    "df = pd.DataFrame(data) "
   ]
  },
  {
   "cell_type": "code",
   "execution_count": 216,
   "id": "0e309ca9",
   "metadata": {},
   "outputs": [
    {
     "name": "stderr",
     "output_type": "stream",
     "text": [
      "C:\\Users\\91892\\AppData\\Local\\Temp/ipykernel_13516/1400620928.py:2: FutureWarning: The default value of regex will change from True to False in a future version.\n",
      "  df['clean_data'] = df['posts'].str.replace(\"[^a-zA-Z#]\", \" \")\n"
     ]
    }
   ],
   "source": [
    "#remove special characters from the column 'posts' then save it with a new column 'clean_data'\n",
    "df['clean_data'] = df['posts'].str.replace(\"[^a-zA-Z#]\", \" \") "
   ]
  },
  {
   "cell_type": "markdown",
   "id": "4b7d3d00",
   "metadata": {},
   "source": [
    "fill the NAs with empty and keep the words that have letters greater than 2 "
   ]
  },
  {
   "cell_type": "code",
   "execution_count": 218,
   "id": "3d48b565",
   "metadata": {},
   "outputs": [],
   "source": [
    "df['clean_data'] = df['clean_data'].fillna('').apply(lambda x: ' '.join([w for w in x.split() if len(w)>2])) "
   ]
  },
  {
   "cell_type": "markdown",
   "id": "a612208e",
   "metadata": {},
   "source": [
    "lowercase all words"
   ]
  },
  {
   "cell_type": "code",
   "execution_count": 219,
   "id": "2deca3e1",
   "metadata": {},
   "outputs": [],
   "source": [
    "df['clean_data'] = df['clean_data'].fillna('').apply(lambda x: x.lower())"
   ]
  },
  {
   "cell_type": "markdown",
   "id": "63f91187",
   "metadata": {},
   "source": [
    "to remove a, an, the (stopwords)  because the focus is on context"
   ]
  },
  {
   "cell_type": "code",
   "execution_count": 220,
   "id": "a4eaf87a",
   "metadata": {},
   "outputs": [
    {
     "name": "stderr",
     "output_type": "stream",
     "text": [
      "[nltk_data] Downloading package stopwords to\n",
      "[nltk_data]     C:\\Users\\91892\\AppData\\Roaming\\nltk_data...\n",
      "[nltk_data]   Package stopwords is already up-to-date!\n"
     ]
    }
   ],
   "source": [
    "import nltk\n",
    "nltk.download('stopwords')\n",
    "from nltk.corpus import stopwords\n",
    "stop_words = stopwords.words('english') "
   ]
  },
  {
   "cell_type": "markdown",
   "id": "b093c177",
   "metadata": {},
   "source": [
    "tokenization: splitting up a larger body of text into smaller lines, words or even creating words for a non-English language."
   ]
  },
  {
   "cell_type": "code",
   "execution_count": 221,
   "id": "c9608f8a",
   "metadata": {},
   "outputs": [],
   "source": [
    "tokenized_doc = df['clean_data'].fillna('').apply(lambda x: x.split())"
   ]
  },
  {
   "cell_type": "markdown",
   "id": "c86842e8",
   "metadata": {},
   "source": [
    "de-tokenization"
   ]
  },
  {
   "cell_type": "code",
   "execution_count": 223,
   "id": "85c9954b",
   "metadata": {},
   "outputs": [],
   "source": [
    "detokenized_doc = []\n",
    "for i in range(len(df)):\n",
    "    t = ' '.join(tokenized_doc[i])\n",
    "    detokenized_doc.append(t)\n",
    "df['clean_data'] = detokenized_doc    "
   ]
  },
  {
   "cell_type": "code",
   "execution_count": 225,
   "id": "b3908145",
   "metadata": {},
   "outputs": [],
   "source": [
    "from sklearn.feature_extraction.text import TfidfVectorizer"
   ]
  },
  {
   "cell_type": "code",
   "execution_count": 226,
   "id": "3a02fdbd",
   "metadata": {},
   "outputs": [],
   "source": [
    "vectorizer = TfidfVectorizer(stop_words='english', smooth_idf=True)"
   ]
  },
  {
   "cell_type": "code",
   "execution_count": 228,
   "id": "68ac0b8a",
   "metadata": {},
   "outputs": [],
   "source": [
    "X = vectorizer.fit_transform(df['clean_data'])"
   ]
  },
  {
   "cell_type": "code",
   "execution_count": 230,
   "id": "045334d0",
   "metadata": {},
   "outputs": [
    {
     "name": "stderr",
     "output_type": "stream",
     "text": [
      "C:\\Users\\91892\\.conda\\envs\\KagglePsy\\lib\\site-packages\\sklearn\\utils\\deprecation.py:87: FutureWarning: Function get_feature_names is deprecated; get_feature_names is deprecated in 1.0 and will be removed in 1.2. Please use get_feature_names_out instead.\n",
      "  warnings.warn(msg, category=FutureWarning)\n"
     ]
    }
   ],
   "source": [
    "dictionary = vectorizer.get_feature_names()"
   ]
  },
  {
   "cell_type": "code",
   "execution_count": 232,
   "id": "d1410b11",
   "metadata": {},
   "outputs": [],
   "source": [
    "from sklearn.decomposition import TruncatedSVD"
   ]
  },
  {
   "cell_type": "code",
   "execution_count": 233,
   "id": "eb77f202",
   "metadata": {},
   "outputs": [],
   "source": [
    "# SVD represent documents and terms in vectors \n",
    "svd_model = TruncatedSVD(n_components=2, algorithm='randomized', n_iter=100, random_state=122)"
   ]
  },
  {
   "cell_type": "code",
   "execution_count": 234,
   "id": "97be8e3d",
   "metadata": {},
   "outputs": [],
   "source": [
    "lsa = svd_model.fit_transform(X)"
   ]
  },
  {
   "cell_type": "code",
   "execution_count": 244,
   "id": "3eacd1cc",
   "metadata": {},
   "outputs": [],
   "source": [
    "pd.options.display.float_format = '{:,.16f}'.format\n",
    "topic_encoded_df = pd.DataFrame(lsa, columns = [\"topic_1\", \"topic_2\"])\n",
    "topic_encoded_df[\"documents\"] = df['clean_data']"
   ]
  },
  {
   "cell_type": "code",
   "execution_count": 236,
   "id": "90c06eec",
   "metadata": {},
   "outputs": [],
   "source": [
    "import matplotlib.pyplot as plt"
   ]
  },
  {
   "cell_type": "markdown",
   "id": "6ded6806",
   "metadata": {},
   "source": [
    "extracting the values and saving it in an array to plot"
   ]
  },
  {
   "cell_type": "code",
   "execution_count": 237,
   "id": "4cd0cb3c",
   "metadata": {},
   "outputs": [],
   "source": [
    "data2=data1[['topic_1','topic_2']].values"
   ]
  },
  {
   "cell_type": "markdown",
   "id": "0c48e035",
   "metadata": {},
   "source": [
    "adding the colomn named 'type' in the real dataset from Kaggle.com (MBTI)"
   ]
  },
  {
   "cell_type": "code",
   "execution_count": 238,
   "id": "1aaa313f",
   "metadata": {},
   "outputs": [],
   "source": [
    "data1[\"label\"]=pd.read_csv('C:/Users/91892/Desktop/data.csv')"
   ]
  },
  {
   "cell_type": "code",
   "execution_count": 242,
   "id": "e89f7871",
   "metadata": {},
   "outputs": [],
   "source": [
    "import seaborn as sbn"
   ]
  },
  {
   "cell_type": "code",
   "execution_count": 243,
   "id": "a2b5c304",
   "metadata": {},
   "outputs": [
    {
     "data": {
      "text/plain": [
       "<seaborn.axisgrid.FacetGrid at 0x1e3e9d2f0d0>"
      ]
     },
     "execution_count": 243,
     "metadata": {},
     "output_type": "execute_result"
    },
    {
     "data": {
      "image/png": "[encoded data removed]",
      "text/plain": [
       "<Figure size 421.75x360 with 1 Axes>"
      ]
     },
     "metadata": {
      "needs_background": "light"
     },
     "output_type": "display_data"
    }
   ],
   "source": [
    "sbn.lmplot(x=\"topic_1\",y=\"topic_2\",data=data1,hue=\"label\",fit_reg=False,scatter_kws={\"s\":50})"
   ]
  }
 ],
 "metadata": {
  "kernelspec": {
   "display_name": "Python 3 (ipykernel)",
   "language": "python",
   "name": "python3"
  },
  "language_info": {
   "codemirror_mode": {
    "name": "ipython",
    "version": 3
   },
   "file_extension": ".py",
   "mimetype": "text/x-python",
   "name": "python",
   "nbconvert_exporter": "python",
   "pygments_lexer": "ipython3",
   "version": "3.9.7"
  }
 },
 "nbformat": 4,
 "nbformat_minor": 5
}
